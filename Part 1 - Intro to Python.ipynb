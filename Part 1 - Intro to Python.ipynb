{
  "cells": [
    {
      "cell_type": "markdown",
      "metadata": {
        "id": "qCsiwyMUSgpE"
      },
      "source": [
        "# Intro to Python for Machine Learning"
      ]
    },
    {
      "cell_type": "markdown",
      "metadata": {
        "id": "Q94yfHMsSgpI"
      },
      "source": [
        "## Part 1: Variables and Arithmetic"
      ]
    },
    {
      "cell_type": "code",
      "execution_count": 1,
      "metadata": {
        "id": "xFJDd3XNSgpJ",
        "outputId": "34041566-0b85-4d88-9976-83ac5fd00b4e",
        "colab": {
          "base_uri": "https://localhost:8080/"
        }
      },
      "outputs": [
        {
          "output_type": "execute_result",
          "data": {
            "text/plain": [
              "(6, 16.5, 'hello!', True)"
            ]
          },
          "metadata": {},
          "execution_count": 1
        }
      ],
      "source": [
        "# In Python we store data in variables with the assignment operator (=)\n",
        "my_integer = 6\n",
        "my_floating_point_number = 16.5\n",
        "my_string = 'hello!'\n",
        "my_boolean = True\n",
        "\n",
        "# We can write variable names at the bottom of our cell to see them print out\n",
        "my_integer, my_floating_point_number, my_string, my_boolean"
      ]
    },
    {
      "cell_type": "markdown",
      "metadata": {
        "id": "yg5XqVBiSgpL"
      },
      "source": [
        "### Arithmetic"
      ]
    },
    {
      "cell_type": "code",
      "execution_count": 2,
      "metadata": {
        "id": "vL-5VGBpSgpM",
        "outputId": "dcd9e269-560a-416e-fa07-3156bff23c4f",
        "colab": {
          "base_uri": "https://localhost:8080/"
        }
      },
      "outputs": [
        {
          "output_type": "execute_result",
          "data": {
            "text/plain": [
              "(30, 20, 125, 5.0)"
            ]
          },
          "metadata": {},
          "execution_count": 2
        }
      ],
      "source": [
        "# With numbers we can add, subtract, multipy and divide\n",
        "a = 25\n",
        "b = 5\n",
        "a_plus_b = a + b\n",
        "a_minus_b = a - b\n",
        "a_times_b = a * b\n",
        "a_divided_by_b = a / b\n",
        "\n",
        "a_plus_b, a_minus_b, a_times_b, a_divided_by_b"
      ]
    },
    {
      "cell_type": "code",
      "execution_count": 3,
      "metadata": {
        "id": "9016odf5SgpM",
        "outputId": "d9137959-702a-40af-959c-b99b7315426f",
        "colab": {
          "base_uri": "https://localhost:8080/"
        }
      },
      "outputs": [
        {
          "output_type": "execute_result",
          "data": {
            "text/plain": [
              "(3.0, 9.0)"
            ]
          },
          "metadata": {},
          "execution_count": 3
        }
      ],
      "source": [
        "# You can always group things in (parenthases) to do that part first--PEMDAS that shit\n",
        "calculation_one = (12 - 6) / 2\n",
        "calculation_two = 12 - (6 / 2)\n",
        "\n",
        "calculation_one, calculation_two"
      ]
    },
    {
      "cell_type": "code",
      "execution_count": 6,
      "metadata": {
        "id": "Tbm4vv0ySgpN",
        "outputId": "183c07d4-31c9-4d38-d728-5ffbd1142741",
        "colab": {
          "base_uri": "https://localhost:8080/"
        }
      },
      "outputs": [
        {
          "output_type": "execute_result",
          "data": {
            "text/plain": [
              "10"
            ]
          },
          "metadata": {},
          "execution_count": 6
        }
      ],
      "source": [
        "# Another helpful tool is being able to alter a variable in place\n",
        "\n",
        "day_of_the_month = 9\n",
        "day_of_the_month += 1\n",
        "\n",
        "\n",
        "day_of_the_month"
      ]
    },
    {
      "cell_type": "markdown",
      "metadata": {
        "id": "6721puvlSgpO"
      },
      "source": [
        "### Strings"
      ]
    },
    {
      "cell_type": "code",
      "execution_count": 8,
      "metadata": {
        "id": "sF4CIe-USgpP",
        "outputId": "63d82e6a-eea7-44f4-b0d3-999789cc68e1",
        "colab": {
          "base_uri": "https://localhost:8080/",
          "height": 35
        }
      },
      "outputs": [
        {
          "output_type": "execute_result",
          "data": {
            "application/vnd.google.colaboratory.intrinsic+json": {
              "type": "string"
            },
            "text/plain": [
              "'Hello Hrithik!'"
            ]
          },
          "metadata": {},
          "execution_count": 8
        }
      ],
      "source": [
        "# There are lots of cool things we can do with string too\n",
        "# We can use the + operator to concatenate strings\n",
        "\n",
        "my_name = 'Hrithik'\n",
        "greeting = 'Hello ' + my_name + '!'\n",
        "\n",
        "greeting"
      ]
    },
    {
      "cell_type": "code",
      "execution_count": 10,
      "metadata": {
        "id": "Q-Ez3VYOSgpQ",
        "outputId": "3d804396-5e0f-4ef8-80b5-59e4d9e1cd97",
        "colab": {
          "base_uri": "https://localhost:8080/",
          "height": 35
        }
      },
      "outputs": [
        {
          "output_type": "execute_result",
          "data": {
            "application/vnd.google.colaboratory.intrinsic+json": {
              "type": "string"
            },
            "text/plain": [
              "\"My favorite coffee drink is a BRU. It's the best!\""
            ]
          },
          "metadata": {},
          "execution_count": 10
        }
      ],
      "source": [
        "# But _usually_ if we want to do something like that, we'll use a format string\n",
        "# Put an `f` before your string, then you can include variable names between {curly braces}\n",
        "\n",
        "drink_name = 'BRU'\n",
        "fun_fact = f'My favorite coffee drink is a {drink_name}. It\\'s the best!'\n",
        "\n",
        "fun_fact"
      ]
    },
    {
      "cell_type": "code",
      "execution_count": 11,
      "metadata": {
        "id": "_VVlVO_HSgpQ",
        "outputId": "e240a844-0fc2-4906-c20b-09bd8d722a10",
        "colab": {
          "base_uri": "https://localhost:8080/"
        }
      },
      "outputs": [
        {
          "output_type": "execute_result",
          "data": {
            "text/plain": [
              "81"
            ]
          },
          "metadata": {},
          "execution_count": 11
        }
      ],
      "source": [
        "# We can also get the length of a string\n",
        "oh_the_places_youll_go = 'congratulations today is your day, you\\'re off to great places you\\'re off and away'\n",
        "\n",
        "len(oh_the_places_youll_go)"
      ]
    },
    {
      "cell_type": "code",
      "execution_count": 12,
      "metadata": {
        "id": "cTLIPhahSgpR",
        "outputId": "006b30f8-e631-4b96-f8e1-69746e54619e",
        "colab": {
          "base_uri": "https://localhost:8080/",
          "height": 35
        }
      },
      "outputs": [
        {
          "output_type": "execute_result",
          "data": {
            "application/vnd.google.colaboratory.intrinsic+json": {
              "type": "string"
            },
            "text/plain": [
              "'a'"
            ]
          },
          "metadata": {},
          "execution_count": 12
        }
      ],
      "source": [
        "# And we can pull out specific letters from the string with [square brackets]\n",
        "\n",
        "# We start counting from 0, so this will give us our 6th letter\n",
        "oh_the_places_youll_go[5]"
      ]
    },
    {
      "cell_type": "markdown",
      "metadata": {
        "id": "QZ4V52zMSgpR"
      },
      "source": [
        "### Booleans"
      ]
    },
    {
      "cell_type": "code",
      "execution_count": 13,
      "metadata": {
        "id": "31QISno_SgpS",
        "outputId": "720a1884-1a8b-4449-9582-839e71a611d4",
        "colab": {
          "base_uri": "https://localhost:8080/"
        }
      },
      "outputs": [
        {
          "output_type": "execute_result",
          "data": {
            "text/plain": [
              "(False, True, True)"
            ]
          },
          "metadata": {},
          "execution_count": 13
        }
      ],
      "source": [
        "# Booleans are always either True or False\n",
        "\n",
        "sunny_in_seattle = False\n",
        "i_want_coffee = True\n",
        "\n",
        "# We can use `and`, `or`, and `not` to play with our booleans\n",
        "\n",
        "sunny_in_seattle and i_want_coffee, sunny_in_seattle or i_want_coffee, i_want_coffee and not sunny_in_seattle"
      ]
    },
    {
      "cell_type": "markdown",
      "metadata": {
        "id": "wMO2bJ-uSgpS"
      },
      "source": [
        "### Challenge\n",
        "Create a variable called 'my_age' that holds your age and one called 'my_name' that contains your name. Then create a string that say 'My name is Will and my age is 25' (only replace Will and 25 with your variables)."
      ]
    },
    {
      "cell_type": "code",
      "execution_count": 16,
      "metadata": {
        "id": "dSZ-W6XtSgpS",
        "outputId": "cbdea5a8-f944-4705-eb9f-beab317a2431",
        "colab": {
          "base_uri": "https://localhost:8080/",
          "height": 35
        }
      },
      "outputs": [
        {
          "output_type": "execute_result",
          "data": {
            "application/vnd.google.colaboratory.intrinsic+json": {
              "type": "string"
            },
            "text/plain": [
              "'My name is Hrithik and my age is 21'"
            ]
          },
          "metadata": {},
          "execution_count": 16
        }
      ],
      "source": [
        "# Do the challenge here!\n",
        "my_age = 21\n",
        "my_name = \"Hrithik\"\n",
        "greeting = f'My name is {my_name} and my age is {my_age}'\n",
        "greeting"
      ]
    },
    {
      "cell_type": "markdown",
      "metadata": {
        "id": "P0u0PFvySgpT"
      },
      "source": [
        "## Part 2: Lists and Dictionaries"
      ]
    },
    {
      "cell_type": "markdown",
      "metadata": {
        "id": "wU5D2RLPSgpT"
      },
      "source": [
        "### Lists"
      ]
    },
    {
      "cell_type": "code",
      "execution_count": 22,
      "metadata": {
        "id": "ybJ5zbHZSgpT",
        "outputId": "93ad30d1-456a-43e9-c6f9-607c2aa485ea",
        "colab": {
          "base_uri": "https://localhost:8080/"
        }
      },
      "outputs": [
        {
          "output_type": "execute_result",
          "data": {
            "text/plain": [
              "['Mumbai', 'Delhi', 'Seattle']"
            ]
          },
          "metadata": {},
          "execution_count": 22
        }
      ],
      "source": [
        "# If we have multiples of one kind of variable, we can use a list\n",
        "# We can create a list with [square brackets], separating each value with commas\n",
        "cities = ['Mumbai', 'Delhi']\n",
        "\n",
        "# We can add a new element to the list with the .append method\n",
        "\n",
        "cities.append('Seattle')\n",
        "\n",
        "cities"
      ]
    },
    {
      "cell_type": "code",
      "execution_count": 23,
      "metadata": {
        "id": "hAnAW19qSgpU",
        "outputId": "f816d56b-9113-4050-f2ba-c7e303b8af1b",
        "colab": {
          "base_uri": "https://localhost:8080/"
        }
      },
      "outputs": [
        {
          "output_type": "execute_result",
          "data": {
            "text/plain": [
              "('Mumbai', 'Seattle')"
            ]
          },
          "metadata": {},
          "execution_count": 23
        }
      ],
      "source": [
        "# Above we see the whole list, but if we want to get a specific element in our list\n",
        "# we can index it, starting with 0. Just like strings!\n",
        "\n",
        "cities[0], cities[2]"
      ]
    },
    {
      "cell_type": "code",
      "source": [
        "cities[2] = \"New York city\"\n",
        "cities"
      ],
      "metadata": {
        "id": "W_LAWo64ZI2S",
        "outputId": "d642af63-2158-4c11-a5c9-806bb2f37309",
        "colab": {
          "base_uri": "https://localhost:8080/"
        }
      },
      "execution_count": 24,
      "outputs": [
        {
          "output_type": "execute_result",
          "data": {
            "text/plain": [
              "['Mumbai', 'Delhi', 'New York city']"
            ]
          },
          "metadata": {},
          "execution_count": 24
        }
      ]
    },
    {
      "cell_type": "markdown",
      "metadata": {
        "id": "7LjoMEqESgpU"
      },
      "source": [
        "### Dictionaries"
      ]
    },
    {
      "cell_type": "code",
      "execution_count": 38,
      "metadata": {
        "id": "byXcyQe9SgpV",
        "outputId": "b2cf5ebe-66f8-48f4-8705-70aab662154d",
        "colab": {
          "base_uri": "https://localhost:8080/"
        }
      },
      "outputs": [
        {
          "output_type": "execute_result",
          "data": {
            "text/plain": [
              "{'Boston': 684379, 'Nashville': 692587}"
            ]
          },
          "metadata": {},
          "execution_count": 38
        }
      ],
      "source": [
        "# Sometimes out data doesn't really fit in a list--if we have pairs of values we can use a dictionary!\n",
        "city_populations = {\n",
        "    # Nashville is the key, 692587 is the value\n",
        "    'Nashville': 692587,\n",
        "    'Boston': 684379,\n",
        "}\n",
        "\n",
        "city_populations"
      ]
    },
    {
      "cell_type": "code",
      "execution_count": 39,
      "metadata": {
        "id": "oOdAp2VZSgpV",
        "outputId": "e9b20bba-e50f-44d1-81ca-88dba5a97a03",
        "colab": {
          "base_uri": "https://localhost:8080/"
        }
      },
      "outputs": [
        {
          "output_type": "execute_result",
          "data": {
            "text/plain": [
              "692587"
            ]
          },
          "metadata": {},
          "execution_count": 39
        }
      ],
      "source": [
        "# To get a specific value, we can index it with the key:\n",
        "city_populations['Nashville']"
      ]
    },
    {
      "cell_type": "code",
      "execution_count": 40,
      "metadata": {
        "id": "yn19sr65SgpV",
        "outputId": "2e260dc9-5fa8-450e-ad7c-24597f194d13",
        "colab": {
          "base_uri": "https://localhost:8080/"
        }
      },
      "outputs": [
        {
          "output_type": "execute_result",
          "data": {
            "text/plain": [
              "{'Boston': 684379, 'Nashville': 692587, 'Seattle': 724305}"
            ]
          },
          "metadata": {},
          "execution_count": 40
        }
      ],
      "source": [
        "# To add a key value pair, we do it like this:\n",
        "\n",
        "city_populations['Seattle'] = 724305 \n",
        "\n",
        "city_populations"
      ]
    },
    {
      "cell_type": "code",
      "source": [
        "#updating the value by key\n",
        "city_populations['Seattle'] = 1234\n",
        "\n",
        "city_populations"
      ],
      "metadata": {
        "id": "uD9x7Q1QbABg",
        "outputId": "0cd2c0ee-3048-4e49-ed7c-9ff6ba47c57a",
        "colab": {
          "base_uri": "https://localhost:8080/"
        }
      },
      "execution_count": 41,
      "outputs": [
        {
          "output_type": "execute_result",
          "data": {
            "text/plain": [
              "{'Boston': 684379, 'Nashville': 692587, 'Seattle': 1234}"
            ]
          },
          "metadata": {},
          "execution_count": 41
        }
      ]
    },
    {
      "cell_type": "code",
      "execution_count": 35,
      "metadata": {
        "id": "u6h0Y0CVSgpW",
        "outputId": "57dd9b02-7022-479d-aef7-a65a05ba2f26",
        "colab": {
          "base_uri": "https://localhost:8080/"
        }
      },
      "outputs": [
        {
          "output_type": "execute_result",
          "data": {
            "text/plain": [
              "dict_keys(['Nashville', 'Boston', 'Seattle'])"
            ]
          },
          "metadata": {},
          "execution_count": 35
        }
      ],
      "source": [
        "# We can also get all the keys of a dictionary with the .keys() method\n",
        "city_populations.keys()"
      ]
    },
    {
      "cell_type": "code",
      "source": [
        "# We can also get all the values of a dictionary with the .values() method\n",
        "city_populations.values()"
      ],
      "metadata": {
        "id": "mMZnkJkyasn2",
        "outputId": "f8c62a59-6b9e-4429-a36b-220aef62d155",
        "colab": {
          "base_uri": "https://localhost:8080/"
        }
      },
      "execution_count": 34,
      "outputs": [
        {
          "output_type": "execute_result",
          "data": {
            "text/plain": [
              "dict_values([692587, 684379, 724305])"
            ]
          },
          "metadata": {},
          "execution_count": 34
        }
      ]
    },
    {
      "cell_type": "markdown",
      "metadata": {
        "id": "Qa7gK7hKSgpW"
      },
      "source": [
        "### Challenge\n",
        "Create a dictionary that maps the names of you and a couple family members or friends to their ages. Then give yourself a birthday by adding 1 to your age, and display the resulting dictionary."
      ]
    },
    {
      "cell_type": "code",
      "execution_count": 45,
      "metadata": {
        "id": "d4SyFEx2SgpW",
        "outputId": "74295e65-50de-4cdd-e2c7-c15048e9e27c",
        "colab": {
          "base_uri": "https://localhost:8080/"
        }
      },
      "outputs": [
        {
          "output_type": "execute_result",
          "data": {
            "text/plain": [
              "{'Apurva': 23, 'Hrithik': 22}"
            ]
          },
          "metadata": {},
          "execution_count": 45
        }
      ],
      "source": [
        "# Do the challenge here!\n",
        "\n",
        "ages = {\n",
        "    # name : age\n",
        "    'Hrithik' : 21,\n",
        "    'Apurva' : 23\n",
        "}\n",
        "\n",
        "ages['Hrithik'] += 1\n",
        "ages"
      ]
    },
    {
      "cell_type": "markdown",
      "metadata": {
        "id": "8acg_P2TSgpW"
      },
      "source": [
        "## Part 3: Ifs and Loops"
      ]
    },
    {
      "cell_type": "markdown",
      "metadata": {
        "id": "31jUSPNOSgpX"
      },
      "source": [
        "### If statements"
      ]
    },
    {
      "cell_type": "code",
      "execution_count": 46,
      "metadata": {
        "id": "S7Bap1MTSgpX",
        "outputId": "5274eaf3-9101-42c3-8edb-435d59360c28",
        "colab": {
          "base_uri": "https://localhost:8080/"
        }
      },
      "outputs": [
        {
          "output_type": "stream",
          "name": "stdout",
          "text": [
            "I like pineapple on pizza and I don't care who knows!\n"
          ]
        }
      ],
      "source": [
        "# If statements let us check some condition, and only run code if that condition is True\n",
        "\n",
        "pineapple_belongs_on_pizza = True\n",
        "\n",
        "\n",
        "if pineapple_belongs_on_pizza:\n",
        "    print('I like pineapple on pizza and I don\\'t care who knows!')\n",
        "\n"
      ]
    },
    {
      "cell_type": "code",
      "execution_count": 47,
      "metadata": {
        "id": "vx-JX4ZgSgpX",
        "outputId": "c984f97e-073c-466d-924e-b486bb8a2565",
        "colab": {
          "base_uri": "https://localhost:8080/"
        }
      },
      "outputs": [
        {
          "output_type": "stream",
          "name": "stdout",
          "text": [
            "Mashed potatoes are literally baby food.\n"
          ]
        }
      ],
      "source": [
        "# We can also add an \"else\" clause to do something else if the condition isn't True\n",
        "mashed_potatoes_are_good = False\n",
        "\n",
        "if mashed_potatoes_are_good:\n",
        "    print('I like mashed potatoes!')\n",
        "else:\n",
        "    print('Mashed potatoes are literally baby food.')"
      ]
    },
    {
      "cell_type": "code",
      "execution_count": 48,
      "metadata": {
        "id": "5J02FmSpSgpX",
        "outputId": "fca3a68f-033b-417b-f59e-3a52c24db2a4",
        "colab": {
          "base_uri": "https://localhost:8080/"
        }
      },
      "outputs": [
        {
          "output_type": "stream",
          "name": "stdout",
          "text": [
            "You can get a driver's license in the India!\n",
            "Let's go to the beach!\n"
          ]
        }
      ],
      "source": [
        "# We can also use comparisons\n",
        "\n",
        "my_age = 25\n",
        "\n",
        "if my_age > 18:\n",
        "    print('You can get a driver\\'s license in the India!')\n",
        "    \n",
        "if my_age == 22:\n",
        "    print('I don\\t know about you, but I\\'m feeling 22!')\n",
        "    \n",
        "# And logical operators (notice the extra elif clause there!)\n",
        "\n",
        "temperature_f = 82\n",
        "weather = 'Sunny'\n",
        "\n",
        "if temperature_f > 70 and weather == 'Sunny':\n",
        "    print('Let\\'s go to the beach!')\n",
        "elif temperature_f < 32 and weather == 'Snowy':\n",
        "    print('Let\\'s go skiing!')\n",
        "else:\n",
        "    print('Let\\'s stay inside :/')"
      ]
    },
    {
      "cell_type": "markdown",
      "metadata": {
        "id": "P34QvsEASgpY"
      },
      "source": [
        "### Loops"
      ]
    },
    {
      "cell_type": "code",
      "execution_count": 49,
      "metadata": {
        "id": "T7cPMCOFSgpY",
        "outputId": "60f2ad83-55fb-410c-a9f8-2004d38f5ab5",
        "colab": {
          "base_uri": "https://localhost:8080/"
        }
      },
      "outputs": [
        {
          "output_type": "stream",
          "name": "stdout",
          "text": [
            "Welcome to class Hrithik!\n",
            "Welcome to class Elizabeth!\n",
            "Welcome to class Eric!\n"
          ]
        }
      ],
      "source": [
        "# We can use loops to do something multiple times--this is really helpful for working with lists\n",
        "\n",
        "students = ['Hrithik', 'Elizabeth', 'Eric']\n",
        "for student in students:\n",
        "    print(f'Welcome to class {student}!')"
      ]
    },
    {
      "cell_type": "code",
      "execution_count": 50,
      "metadata": {
        "id": "WP8zcnw_SgpY",
        "outputId": "24ea01b3-df89-428a-9f7a-9aa72fad809b",
        "colab": {
          "base_uri": "https://localhost:8080/"
        }
      },
      "outputs": [
        {
          "output_type": "stream",
          "name": "stdout",
          "text": [
            "We're going to have 2 sunny days, 1 rainy days, and 0 snowy days\n"
          ]
        }
      ],
      "source": [
        "# We can also do more interesting logic inside our loop\n",
        "\n",
        "weather_forecasts = ['Sunny', 'Rainy', 'Sunny']\n",
        "\n",
        "sunny_day_count = 0\n",
        "rainy_day_count = 0\n",
        "snowy_day_count = 0\n",
        "\n",
        "for forecast in weather_forecasts:\n",
        "    if forecast == 'Sunny':\n",
        "        sunny_day_count += 1\n",
        "    elif forecast == 'Rainy':\n",
        "        rainy_day_count += 1\n",
        "    elif forecast == 'Snowy':\n",
        "        snowy_day_count += 1\n",
        "\n",
        "print(f'We\\'re going to have {sunny_day_count} sunny days, {rainy_day_count} rainy days, and {snowy_day_count} snowy days')"
      ]
    },
    {
      "cell_type": "code",
      "execution_count": 51,
      "metadata": {
        "id": "XKJF5puKSgpY",
        "outputId": "625c26e0-8328-4037-86f6-124ff2c1e79f",
        "colab": {
          "base_uri": "https://localhost:8080/"
        }
      },
      "outputs": [
        {
          "output_type": "stream",
          "name": "stdout",
          "text": [
            "{'Will': 26, 'Richard': 24, 'Benjamin Franklin': 317}\n"
          ]
        }
      ],
      "source": [
        "# We can also use loops on dictionaries!\n",
        "\n",
        "ages = {'Will': 25, 'Richard': 23, 'Benjamin Franklin': 316}\n",
        "\n",
        "# Everyone gets a birthday\n",
        "# Notice we get the key in our dummy variable, not the value\n",
        "for key in ages:\n",
        "    ages[key] += 1\n",
        "    \n",
        "print(ages)"
      ]
    },
    {
      "cell_type": "markdown",
      "metadata": {
        "id": "V4WYBGSmSgpZ"
      },
      "source": [
        "### Challenge\n",
        "Create a list of integers from 1 through 6. Loop through it and check to see if each number is greater than 3--if it is print out \"NUMBER is greater than 3\" (replacing number with the current number)"
      ]
    },
    {
      "cell_type": "code",
      "execution_count": 52,
      "metadata": {
        "id": "wT1LKv6ZSgpZ",
        "outputId": "24c7f101-aadb-43aa-8879-84e5f8c7f32f",
        "colab": {
          "base_uri": "https://localhost:8080/"
        }
      },
      "outputs": [
        {
          "output_type": "stream",
          "name": "stdout",
          "text": [
            "4 is greater than 3\n",
            "5 is greater than 3\n",
            "6 is greater than 3\n"
          ]
        }
      ],
      "source": [
        "# Do the challenge here!\n",
        "numbers = [1,2,3,4,5,6]\n",
        "\n",
        "for num in numbers:\n",
        "  if num > 3:\n",
        "    print(f'{num} is greater than 3')\n",
        "    "
      ]
    },
    {
      "cell_type": "markdown",
      "metadata": {
        "id": "oP7oh0EeSgpZ"
      },
      "source": [
        "## Part 4: Functions"
      ]
    },
    {
      "cell_type": "code",
      "execution_count": 53,
      "metadata": {
        "id": "c98Q1hhQSgpa",
        "outputId": "c5b6cfa6-ed43-476b-a43c-0af8e250f5b8",
        "colab": {
          "base_uri": "https://localhost:8080/"
        }
      },
      "outputs": [
        {
          "output_type": "execute_result",
          "data": {
            "text/plain": [
              "8"
            ]
          },
          "metadata": {},
          "execution_count": 53
        }
      ],
      "source": [
        "# Functions let us package up a bit of code to reuse multiple times\n",
        "\n",
        "def my_adding_function(foo, bar):\n",
        "    my_sum = foo + bar\n",
        "    return my_sum\n",
        "\n",
        "# In the above function...\n",
        "# def is our keyword that says we're writing a function\n",
        "# my_adding_function is the name of our function, this is what we'll use later to call it\n",
        "# (foo, bar) are our arguments--these are the inputs to our function\n",
        "# the colon (:) tells us we're entering an indented code block, and that the function continues until we unindent\n",
        "# my_sum = foo + bar is the core logic of our function\n",
        "# return my_sum is our return statement--this shows us what the function gives us back when we call it\n",
        "\n",
        "my_adding_function(2, 6)"
      ]
    },
    {
      "cell_type": "markdown",
      "metadata": {
        "id": "pjaYEYqySgpa"
      },
      "source": [
        "### Challenge\n",
        "Write a function that accepts a number, and returns that number times 2!"
      ]
    },
    {
      "cell_type": "code",
      "execution_count": 57,
      "metadata": {
        "id": "oTJAkMXHSgpa",
        "outputId": "af4177b1-42f3-415e-c082-9c18ad1512ee",
        "colab": {
          "base_uri": "https://localhost:8080/"
        }
      },
      "outputs": [
        {
          "output_type": "execute_result",
          "data": {
            "text/plain": [
              "10"
            ]
          },
          "metadata": {},
          "execution_count": 57
        }
      ],
      "source": [
        "# Do the challenge here!\n",
        "def times_two(num):\n",
        "  return num * 2\n",
        "\n",
        "times_two(5)"
      ]
    },
    {
      "cell_type": "markdown",
      "metadata": {
        "id": "c2NqjIksSgpa"
      },
      "source": [
        "## Part 5: Libraries and Pandas"
      ]
    },
    {
      "cell_type": "markdown",
      "metadata": {
        "id": "7Ej6082pSgpb"
      },
      "source": [
        "### Libraries"
      ]
    },
    {
      "cell_type": "code",
      "execution_count": 67,
      "metadata": {
        "id": "plsStXIQSgpb",
        "outputId": "a8812056-95cd-4ada-8dc2-5c3d0f0581ed",
        "colab": {
          "base_uri": "https://localhost:8080/"
        }
      },
      "outputs": [
        {
          "output_type": "execute_result",
          "data": {
            "text/plain": [
              "0.9560342718892494"
            ]
          },
          "metadata": {},
          "execution_count": 67
        }
      ],
      "source": [
        "# We can import libraries with the import statement\n",
        "\n",
        "import random\n",
        "\n",
        "# Then use things from those libraries with the dot operator like this:\n",
        "\n",
        "random.random()"
      ]
    },
    {
      "cell_type": "code",
      "execution_count": null,
      "metadata": {
        "id": "SxMgtGixSgpb"
      },
      "outputs": [],
      "source": [
        "# If you every want to know all the stuff you can access with a dot, you can use the dir() function\n",
        "# tho be careful, its output can be a little overwhelming sometimes\n",
        "\n",
        "dir(random)"
      ]
    },
    {
      "cell_type": "code",
      "execution_count": 68,
      "metadata": {
        "id": "MRfoxJN2Sgpb",
        "outputId": "c67caad5-5305-401a-938b-5c6d60c5cc4d",
        "colab": {
          "base_uri": "https://localhost:8080/",
          "height": 282
        }
      },
      "outputs": [
        {
          "output_type": "execute_result",
          "data": {
            "text/plain": [
              "[<matplotlib.lines.Line2D at 0x7fb820bc4410>]"
            ]
          },
          "metadata": {},
          "execution_count": 68
        },
        {
          "output_type": "display_data",
          "data": {
            "image/png": "[encoded data removed]",
            "text/plain": [
              "<Figure size 432x288 with 1 Axes>"
            ]
          },
          "metadata": {
            "needs_background": "light"
          }
        }
      ],
      "source": [
        "# another cool library is called matplotlib\n",
        "\n",
        "# Instead of importing all of matplotlib, we're only import pyplot, and we're giving it a new name: plt!\n",
        "import matplotlib.pyplot as plt\n",
        "\n",
        "x = [0, 1, 2, 3, 4, 5, 6]\n",
        "x_squared = [0, 1, 4, 9, 16, 25, 36]\n",
        "\n",
        "plt.plot(x, x_squared)"
      ]
    },
    {
      "cell_type": "code",
      "source": [
        "import matplotlib.pyplot as plt\n",
        "x = [0,1,2,3,4,5,6]\n",
        "x_squared = [0, 1, 2, 3, 4, 5, 6]\n",
        "\n",
        "plt.plot(x,x_squared)"
      ],
      "metadata": {
        "id": "a_GVyIfR7KOb",
        "outputId": "9474b90c-6921-4586-9051-911b9c3fd58d",
        "colab": {
          "base_uri": "https://localhost:8080/",
          "height": 282
        }
      },
      "execution_count": 89,
      "outputs": [
        {
          "output_type": "execute_result",
          "data": {
            "text/plain": [
              "[<matplotlib.lines.Line2D at 0x7fb81ff11950>]"
            ]
          },
          "metadata": {},
          "execution_count": 89
        },
        {
          "output_type": "display_data",
          "data": {
            "image/png": "[encoded data removed]",
            "text/plain": [
              "<Figure size 432x288 with 1 Axes>"
            ]
          },
          "metadata": {
            "needs_background": "light"
          }
        }
      ]
    },
    {
      "cell_type": "code",
      "execution_count": 92,
      "metadata": {
        "id": "RrjWfymLSgpb"
      },
      "outputs": [],
      "source": [
        "# Now for the big one. There's a library called pandas that we're going to use a lot\n",
        "# It helps us interact with the kind of data you would find in a spreadsheet\n",
        "\n",
        "import pandas as pd\n",
        "\n",
        "raw_data = {\n",
        "    'state': ['California', 'Texas', 'Florida', 'New York', 'Pennsylvania', 'Illinois', 'Ohio', 'Georgia'],\n",
        "    'abbreviation': ['CA', 'TX', 'FL', 'NY', 'PA', 'IL', 'OH', 'GA'],\n",
        "    'population': [39613493, 29730311, 21944577, 19299981, 12804123, 12569321, 11714618, 10830007],\n",
        "    'number_starbucks': [2821, 1042, 694, 645, 357, 575, 378, 326]\n",
        "}\n",
        "\n",
        "\n",
        "df = pd.DataFrame(raw_data)"
      ]
    },
    {
      "cell_type": "code",
      "execution_count": 94,
      "metadata": {
        "id": "DKO8tW52Sgpc",
        "outputId": "f98d5bf7-3452-46ba-c79f-80b58b3181ed",
        "colab": {
          "base_uri": "https://localhost:8080/",
          "height": 206
        }
      },
      "outputs": [
        {
          "output_type": "execute_result",
          "data": {
            "text/html": [
              "\n",
              "  <div id=\"df-e6952535-a3ac-4ee4-949b-497c492b85db\">\n",
              "    <div class=\"colab-df-container\">\n",
              "      <div>\n",
              "<style scoped>\n",
              "    .dataframe tbody tr th:only-of-type {\n",
              "        vertical-align: middle;\n",
              "    }\n",
              "\n",
              "    .dataframe tbody tr th {\n",
              "        vertical-align: top;\n",
              "    }\n",
              "\n",
              "    .dataframe thead th {\n",
              "        text-align: right;\n",
              "    }\n",
              "</style>\n",
              "<table border=\"1\" class=\"dataframe\">\n",
              "  <thead>\n",
              "    <tr style=\"text-align: right;\">\n",
              "      <th></th>\n",
              "      <th>state</th>\n",
              "      <th>abbreviation</th>\n",
              "      <th>population</th>\n",
              "      <th>number_starbucks</th>\n",
              "    </tr>\n",
              "  </thead>\n",
              "  <tbody>\n",
              "    <tr>\n",
              "      <th>0</th>\n",
              "      <td>California</td>\n",
              "      <td>CA</td>\n",
              "      <td>39613493</td>\n",
              "      <td>2821</td>\n",
              "    </tr>\n",
              "    <tr>\n",
              "      <th>1</th>\n",
              "      <td>Texas</td>\n",
              "      <td>TX</td>\n",
              "      <td>29730311</td>\n",
              "      <td>1042</td>\n",
              "    </tr>\n",
              "    <tr>\n",
              "      <th>2</th>\n",
              "      <td>Florida</td>\n",
              "      <td>FL</td>\n",
              "      <td>21944577</td>\n",
              "      <td>694</td>\n",
              "    </tr>\n",
              "    <tr>\n",
              "      <th>3</th>\n",
              "      <td>New York</td>\n",
              "      <td>NY</td>\n",
              "      <td>19299981</td>\n",
              "      <td>645</td>\n",
              "    </tr>\n",
              "    <tr>\n",
              "      <th>4</th>\n",
              "      <td>Pennsylvania</td>\n",
              "      <td>PA</td>\n",
              "      <td>12804123</td>\n",
              "      <td>357</td>\n",
              "    </tr>\n",
              "  </tbody>\n",
              "</table>\n",
              "</div>\n",
              "      <button class=\"colab-df-convert\" onclick=\"convertToInteractive('df-e6952535-a3ac-4ee4-949b-497c492b85db')\"\n",
              "              title=\"Convert this dataframe to an interactive table.\"\n",
              "              style=\"display:none;\">\n",
              "        \n",
              "  <svg xmlns=\"http://www.w3.org/2000/svg\" height=\"24px\"viewBox=\"0 0 24 24\"\n",
              "       width=\"24px\">\n",
              "    <path d=\"M0 0h24v24H0V0z\" fill=\"none\"/>\n",
              "    <path d=\"M18.56 5.44l.94 2.06.94-2.06 2.06-.94-2.06-.94-.94-2.06-.94 2.06-2.06.94zm-11 1L8.5 8.5l.94-2.06 2.06-.94-2.06-.94L8.5 2.5l-.94 2.06-2.06.94zm10 10l.94 2.06.94-2.06 2.06-.94-2.06-.94-.94-2.06-.94 2.06-2.06.94z\"/><path d=\"M17.41 7.96l-1.37-1.37c-.4-.4-.92-.59-1.43-.59-.52 0-1.04.2-1.43.59L10.3 9.45l-7.72 7.72c-.78.78-.78 2.05 0 2.83L4 21.41c.39.39.9.59 1.41.59.51 0 1.02-.2 1.41-.59l7.78-7.78 2.81-2.81c.8-.78.8-2.07 0-2.86zM5.41 20L4 18.59l7.72-7.72 1.47 1.35L5.41 20z\"/>\n",
              "  </svg>\n",
              "      </button>\n",
              "      \n",
              "  <style>\n",
              "    .colab-df-container {\n",
              "      display:flex;\n",
              "      flex-wrap:wrap;\n",
              "      gap: 12px;\n",
              "    }\n",
              "\n",
              "    .colab-df-convert {\n",
              "      background-color: #E8F0FE;\n",
              "      border: none;\n",
              "      border-radius: 50%;\n",
              "      cursor: pointer;\n",
              "      display: none;\n",
              "      fill: #1967D2;\n",
              "      height: 32px;\n",
              "      padding: 0 0 0 0;\n",
              "      width: 32px;\n",
              "    }\n",
              "\n",
              "    .colab-df-convert:hover {\n",
              "      background-color: #E2EBFA;\n",
              "      box-shadow: 0px 1px 2px rgba(60, 64, 67, 0.3), 0px 1px 3px 1px rgba(60, 64, 67, 0.15);\n",
              "      fill: #174EA6;\n",
              "    }\n",
              "\n",
              "    [theme=dark] .colab-df-convert {\n",
              "      background-color: #3B4455;\n",
              "      fill: #D2E3FC;\n",
              "    }\n",
              "\n",
              "    [theme=dark] .colab-df-convert:hover {\n",
              "      background-color: #434B5C;\n",
              "      box-shadow: 0px 1px 3px 1px rgba(0, 0, 0, 0.15);\n",
              "      filter: drop-shadow(0px 1px 2px rgba(0, 0, 0, 0.3));\n",
              "      fill: #FFFFFF;\n",
              "    }\n",
              "  </style>\n",
              "\n",
              "      <script>\n",
              "        const buttonEl =\n",
              "          document.querySelector('#df-e6952535-a3ac-4ee4-949b-497c492b85db button.colab-df-convert');\n",
              "        buttonEl.style.display =\n",
              "          google.colab.kernel.accessAllowed ? 'block' : 'none';\n",
              "\n",
              "        async function convertToInteractive(key) {\n",
              "          const element = document.querySelector('#df-e6952535-a3ac-4ee4-949b-497c492b85db');\n",
              "          const dataTable =\n",
              "            await google.colab.kernel.invokeFunction('convertToInteractive',\n",
              "                                                     [key], {});\n",
              "          if (!dataTable) return;\n",
              "\n",
              "          const docLinkHtml = 'Like what you see? Visit the ' +\n",
              "            '<a target=\"_blank\" href=https://colab.research.google.com/notebooks/data_table.ipynb>data table notebook</a>'\n",
              "            + ' to learn more about interactive tables.';\n",
              "          element.innerHTML = '';\n",
              "          dataTable['output_type'] = 'display_data';\n",
              "          await google.colab.output.renderOutput(dataTable, element);\n",
              "          const docLink = document.createElement('div');\n",
              "          docLink.innerHTML = docLinkHtml;\n",
              "          element.appendChild(docLink);\n",
              "        }\n",
              "      </script>\n",
              "    </div>\n",
              "  </div>\n",
              "  "
            ],
            "text/plain": [
              "          state abbreviation  population  number_starbucks\n",
              "0    California           CA    39613493              2821\n",
              "1         Texas           TX    29730311              1042\n",
              "2       Florida           FL    21944577               694\n",
              "3      New York           NY    19299981               645\n",
              "4  Pennsylvania           PA    12804123               357"
            ]
          },
          "metadata": {},
          "execution_count": 94
        }
      ],
      "source": [
        "# Head is a helpful function that will just show us the first few rows of our dataframe\n",
        "df.head()"
      ]
    },
    {
      "cell_type": "code",
      "execution_count": 71,
      "metadata": {
        "id": "NAn70sXNSgpc",
        "outputId": "b5d82a33-9a01-4fb2-ef10-d6a2a4c10f18",
        "colab": {
          "base_uri": "https://localhost:8080/"
        }
      },
      "outputs": [
        {
          "output_type": "execute_result",
          "data": {
            "text/plain": [
              "0    2821\n",
              "1    1042\n",
              "2     694\n",
              "3     645\n",
              "4     357\n",
              "5     575\n",
              "6     378\n",
              "7     326\n",
              "Name: number_starbucks, dtype: int64"
            ]
          },
          "metadata": {},
          "execution_count": 71
        }
      ],
      "source": [
        "# We can pull out a single column just like we would for a dictionary\n",
        "\n",
        "df['number_starbucks']"
      ]
    },
    {
      "cell_type": "code",
      "execution_count": 72,
      "metadata": {
        "id": "8qEyNTwnSgpc",
        "outputId": "9f88c76b-76a9-4512-e2d9-2b6b0c024fe5",
        "colab": {
          "base_uri": "https://localhost:8080/"
        }
      },
      "outputs": [
        {
          "output_type": "execute_result",
          "data": {
            "text/plain": [
              "(854.75, 828.4166912162709)"
            ]
          },
          "metadata": {},
          "execution_count": 72
        }
      ],
      "source": [
        "# We can also get cool stats on that column\n",
        "\n",
        "df['number_starbucks'].mean(), df['number_starbucks'].std()"
      ]
    },
    {
      "cell_type": "code",
      "execution_count": 95,
      "metadata": {
        "id": "AlncsMJ6Sgpc",
        "outputId": "de5a7913-d20d-4b30-f37d-a3578b7b1e95",
        "colab": {
          "base_uri": "https://localhost:8080/"
        }
      },
      "outputs": [
        {
          "output_type": "stream",
          "name": "stdout",
          "text": [
            "California is a state in the US!\n",
            "Texas is a state in the US!\n",
            "Florida is a state in the US!\n",
            "New York is a state in the US!\n",
            "Pennsylvania is a state in the US!\n",
            "Illinois is a state in the US!\n",
            "Ohio is a state in the US!\n",
            "Georgia is a state in the US!\n"
          ]
        }
      ],
      "source": [
        "# Each individual column also works like a list, so we can use it in a loop:\n",
        "\n",
        "for state in df['state']:\n",
        "    print(f'{state} is a state in the US!')"
      ]
    },
    {
      "cell_type": "code",
      "execution_count": 96,
      "metadata": {
        "id": "EhB8KRvMSgpc",
        "outputId": "18e9b7bf-8db6-456c-d104-096358122483",
        "colab": {
          "base_uri": "https://localhost:8080/",
          "height": 296
        }
      },
      "outputs": [
        {
          "output_type": "execute_result",
          "data": {
            "text/plain": [
              "Text(0, 0.5, 'number of starbucks')"
            ]
          },
          "metadata": {},
          "execution_count": 96
        },
        {
          "output_type": "display_data",
          "data": {
            "image/png": "[encoded data removed]",
            "text/plain": [
              "<Figure size 432x288 with 1 Axes>"
            ]
          },
          "metadata": {
            "needs_background": "light"
          }
        }
      ],
      "source": [
        "# Or we can use them in a graph\n",
        "\n",
        "\n",
        "plt.plot(df['population'], df['number_starbucks'])\n",
        "plt.xlabel('population')\n",
        "plt.ylabel('number of starbucks')"
      ]
    },
    {
      "cell_type": "code",
      "execution_count": 97,
      "metadata": {
        "id": "ryUkTVA6Sgpd",
        "outputId": "87f96965-272a-47fc-aa4f-5457385e4e64",
        "colab": {
          "base_uri": "https://localhost:8080/",
          "height": 143
        }
      },
      "outputs": [
        {
          "output_type": "execute_result",
          "data": {
            "text/html": [
              "\n",
              "  <div id=\"df-9b564f65-58f1-4b5d-960e-edff320aaaeb\">\n",
              "    <div class=\"colab-df-container\">\n",
              "      <div>\n",
              "<style scoped>\n",
              "    .dataframe tbody tr th:only-of-type {\n",
              "        vertical-align: middle;\n",
              "    }\n",
              "\n",
              "    .dataframe tbody tr th {\n",
              "        vertical-align: top;\n",
              "    }\n",
              "\n",
              "    .dataframe thead th {\n",
              "        text-align: right;\n",
              "    }\n",
              "</style>\n",
              "<table border=\"1\" class=\"dataframe\">\n",
              "  <thead>\n",
              "    <tr style=\"text-align: right;\">\n",
              "      <th></th>\n",
              "      <th>state</th>\n",
              "      <th>abbreviation</th>\n",
              "      <th>population</th>\n",
              "      <th>number_starbucks</th>\n",
              "    </tr>\n",
              "  </thead>\n",
              "  <tbody>\n",
              "    <tr>\n",
              "      <th>0</th>\n",
              "      <td>California</td>\n",
              "      <td>CA</td>\n",
              "      <td>39613493</td>\n",
              "      <td>2821</td>\n",
              "    </tr>\n",
              "    <tr>\n",
              "      <th>1</th>\n",
              "      <td>Texas</td>\n",
              "      <td>TX</td>\n",
              "      <td>29730311</td>\n",
              "      <td>1042</td>\n",
              "    </tr>\n",
              "    <tr>\n",
              "      <th>2</th>\n",
              "      <td>Florida</td>\n",
              "      <td>FL</td>\n",
              "      <td>21944577</td>\n",
              "      <td>694</td>\n",
              "    </tr>\n",
              "  </tbody>\n",
              "</table>\n",
              "</div>\n",
              "      <button class=\"colab-df-convert\" onclick=\"convertToInteractive('df-9b564f65-58f1-4b5d-960e-edff320aaaeb')\"\n",
              "              title=\"Convert this dataframe to an interactive table.\"\n",
              "              style=\"display:none;\">\n",
              "        \n",
              "  <svg xmlns=\"http://www.w3.org/2000/svg\" height=\"24px\"viewBox=\"0 0 24 24\"\n",
              "       width=\"24px\">\n",
              "    <path d=\"M0 0h24v24H0V0z\" fill=\"none\"/>\n",
              "    <path d=\"M18.56 5.44l.94 2.06.94-2.06 2.06-.94-2.06-.94-.94-2.06-.94 2.06-2.06.94zm-11 1L8.5 8.5l.94-2.06 2.06-.94-2.06-.94L8.5 2.5l-.94 2.06-2.06.94zm10 10l.94 2.06.94-2.06 2.06-.94-2.06-.94-.94-2.06-.94 2.06-2.06.94z\"/><path d=\"M17.41 7.96l-1.37-1.37c-.4-.4-.92-.59-1.43-.59-.52 0-1.04.2-1.43.59L10.3 9.45l-7.72 7.72c-.78.78-.78 2.05 0 2.83L4 21.41c.39.39.9.59 1.41.59.51 0 1.02-.2 1.41-.59l7.78-7.78 2.81-2.81c.8-.78.8-2.07 0-2.86zM5.41 20L4 18.59l7.72-7.72 1.47 1.35L5.41 20z\"/>\n",
              "  </svg>\n",
              "      </button>\n",
              "      \n",
              "  <style>\n",
              "    .colab-df-container {\n",
              "      display:flex;\n",
              "      flex-wrap:wrap;\n",
              "      gap: 12px;\n",
              "    }\n",
              "\n",
              "    .colab-df-convert {\n",
              "      background-color: #E8F0FE;\n",
              "      border: none;\n",
              "      border-radius: 50%;\n",
              "      cursor: pointer;\n",
              "      display: none;\n",
              "      fill: #1967D2;\n",
              "      height: 32px;\n",
              "      padding: 0 0 0 0;\n",
              "      width: 32px;\n",
              "    }\n",
              "\n",
              "    .colab-df-convert:hover {\n",
              "      background-color: #E2EBFA;\n",
              "      box-shadow: 0px 1px 2px rgba(60, 64, 67, 0.3), 0px 1px 3px 1px rgba(60, 64, 67, 0.15);\n",
              "      fill: #174EA6;\n",
              "    }\n",
              "\n",
              "    [theme=dark] .colab-df-convert {\n",
              "      background-color: #3B4455;\n",
              "      fill: #D2E3FC;\n",
              "    }\n",
              "\n",
              "    [theme=dark] .colab-df-convert:hover {\n",
              "      background-color: #434B5C;\n",
              "      box-shadow: 0px 1px 3px 1px rgba(0, 0, 0, 0.15);\n",
              "      filter: drop-shadow(0px 1px 2px rgba(0, 0, 0, 0.3));\n",
              "      fill: #FFFFFF;\n",
              "    }\n",
              "  </style>\n",
              "\n",
              "      <script>\n",
              "        const buttonEl =\n",
              "          document.querySelector('#df-9b564f65-58f1-4b5d-960e-edff320aaaeb button.colab-df-convert');\n",
              "        buttonEl.style.display =\n",
              "          google.colab.kernel.accessAllowed ? 'block' : 'none';\n",
              "\n",
              "        async function convertToInteractive(key) {\n",
              "          const element = document.querySelector('#df-9b564f65-58f1-4b5d-960e-edff320aaaeb');\n",
              "          const dataTable =\n",
              "            await google.colab.kernel.invokeFunction('convertToInteractive',\n",
              "                                                     [key], {});\n",
              "          if (!dataTable) return;\n",
              "\n",
              "          const docLinkHtml = 'Like what you see? Visit the ' +\n",
              "            '<a target=\"_blank\" href=https://colab.research.google.com/notebooks/data_table.ipynb>data table notebook</a>'\n",
              "            + ' to learn more about interactive tables.';\n",
              "          element.innerHTML = '';\n",
              "          dataTable['output_type'] = 'display_data';\n",
              "          await google.colab.output.renderOutput(dataTable, element);\n",
              "          const docLink = document.createElement('div');\n",
              "          docLink.innerHTML = docLinkHtml;\n",
              "          element.appendChild(docLink);\n",
              "        }\n",
              "      </script>\n",
              "    </div>\n",
              "  </div>\n",
              "  "
            ],
            "text/plain": [
              "        state abbreviation  population  number_starbucks\n",
              "0  California           CA    39613493              2821\n",
              "1       Texas           TX    29730311              1042\n",
              "2     Florida           FL    21944577               694"
            ]
          },
          "metadata": {},
          "execution_count": 97
        }
      ],
      "source": [
        "# We can also filter our dataframe like this\n",
        "\n",
        "# Here we'll get all our states with more than 20 million people\n",
        "df[df['population'] > 20000000]"
      ]
    },
    {
      "cell_type": "code",
      "execution_count": 98,
      "metadata": {
        "id": "Ic-JceZ7Sgpd",
        "outputId": "e7691d13-fefa-4c8a-a629-ff0f61998fda",
        "colab": {
          "base_uri": "https://localhost:8080/",
          "height": 300
        }
      },
      "outputs": [
        {
          "output_type": "execute_result",
          "data": {
            "text/html": [
              "\n",
              "  <div id=\"df-9994d454-c8d2-4613-9fbb-890eea57c70d\">\n",
              "    <div class=\"colab-df-container\">\n",
              "      <div>\n",
              "<style scoped>\n",
              "    .dataframe tbody tr th:only-of-type {\n",
              "        vertical-align: middle;\n",
              "    }\n",
              "\n",
              "    .dataframe tbody tr th {\n",
              "        vertical-align: top;\n",
              "    }\n",
              "\n",
              "    .dataframe thead th {\n",
              "        text-align: right;\n",
              "    }\n",
              "</style>\n",
              "<table border=\"1\" class=\"dataframe\">\n",
              "  <thead>\n",
              "    <tr style=\"text-align: right;\">\n",
              "      <th></th>\n",
              "      <th>state</th>\n",
              "      <th>abbreviation</th>\n",
              "      <th>population</th>\n",
              "      <th>number_starbucks</th>\n",
              "      <th>people_per_starbucks</th>\n",
              "    </tr>\n",
              "  </thead>\n",
              "  <tbody>\n",
              "    <tr>\n",
              "      <th>0</th>\n",
              "      <td>California</td>\n",
              "      <td>CA</td>\n",
              "      <td>39613493</td>\n",
              "      <td>2821</td>\n",
              "      <td>14042.358384</td>\n",
              "    </tr>\n",
              "    <tr>\n",
              "      <th>1</th>\n",
              "      <td>Texas</td>\n",
              "      <td>TX</td>\n",
              "      <td>29730311</td>\n",
              "      <td>1042</td>\n",
              "      <td>28531.968330</td>\n",
              "    </tr>\n",
              "    <tr>\n",
              "      <th>2</th>\n",
              "      <td>Florida</td>\n",
              "      <td>FL</td>\n",
              "      <td>21944577</td>\n",
              "      <td>694</td>\n",
              "      <td>31620.427954</td>\n",
              "    </tr>\n",
              "    <tr>\n",
              "      <th>3</th>\n",
              "      <td>New York</td>\n",
              "      <td>NY</td>\n",
              "      <td>19299981</td>\n",
              "      <td>645</td>\n",
              "      <td>29922.451163</td>\n",
              "    </tr>\n",
              "    <tr>\n",
              "      <th>4</th>\n",
              "      <td>Pennsylvania</td>\n",
              "      <td>PA</td>\n",
              "      <td>12804123</td>\n",
              "      <td>357</td>\n",
              "      <td>35865.890756</td>\n",
              "    </tr>\n",
              "    <tr>\n",
              "      <th>5</th>\n",
              "      <td>Illinois</td>\n",
              "      <td>IL</td>\n",
              "      <td>12569321</td>\n",
              "      <td>575</td>\n",
              "      <td>21859.688696</td>\n",
              "    </tr>\n",
              "    <tr>\n",
              "      <th>6</th>\n",
              "      <td>Ohio</td>\n",
              "      <td>OH</td>\n",
              "      <td>11714618</td>\n",
              "      <td>378</td>\n",
              "      <td>30991.052910</td>\n",
              "    </tr>\n",
              "    <tr>\n",
              "      <th>7</th>\n",
              "      <td>Georgia</td>\n",
              "      <td>GA</td>\n",
              "      <td>10830007</td>\n",
              "      <td>326</td>\n",
              "      <td>33220.880368</td>\n",
              "    </tr>\n",
              "  </tbody>\n",
              "</table>\n",
              "</div>\n",
              "      <button class=\"colab-df-convert\" onclick=\"convertToInteractive('df-9994d454-c8d2-4613-9fbb-890eea57c70d')\"\n",
              "              title=\"Convert this dataframe to an interactive table.\"\n",
              "              style=\"display:none;\">\n",
              "        \n",
              "  <svg xmlns=\"http://www.w3.org/2000/svg\" height=\"24px\"viewBox=\"0 0 24 24\"\n",
              "       width=\"24px\">\n",
              "    <path d=\"M0 0h24v24H0V0z\" fill=\"none\"/>\n",
              "    <path d=\"M18.56 5.44l.94 2.06.94-2.06 2.06-.94-2.06-.94-.94-2.06-.94 2.06-2.06.94zm-11 1L8.5 8.5l.94-2.06 2.06-.94-2.06-.94L8.5 2.5l-.94 2.06-2.06.94zm10 10l.94 2.06.94-2.06 2.06-.94-2.06-.94-.94-2.06-.94 2.06-2.06.94z\"/><path d=\"M17.41 7.96l-1.37-1.37c-.4-.4-.92-.59-1.43-.59-.52 0-1.04.2-1.43.59L10.3 9.45l-7.72 7.72c-.78.78-.78 2.05 0 2.83L4 21.41c.39.39.9.59 1.41.59.51 0 1.02-.2 1.41-.59l7.78-7.78 2.81-2.81c.8-.78.8-2.07 0-2.86zM5.41 20L4 18.59l7.72-7.72 1.47 1.35L5.41 20z\"/>\n",
              "  </svg>\n",
              "      </button>\n",
              "      \n",
              "  <style>\n",
              "    .colab-df-container {\n",
              "      display:flex;\n",
              "      flex-wrap:wrap;\n",
              "      gap: 12px;\n",
              "    }\n",
              "\n",
              "    .colab-df-convert {\n",
              "      background-color: #E8F0FE;\n",
              "      border: none;\n",
              "      border-radius: 50%;\n",
              "      cursor: pointer;\n",
              "      display: none;\n",
              "      fill: #1967D2;\n",
              "      height: 32px;\n",
              "      padding: 0 0 0 0;\n",
              "      width: 32px;\n",
              "    }\n",
              "\n",
              "    .colab-df-convert:hover {\n",
              "      background-color: #E2EBFA;\n",
              "      box-shadow: 0px 1px 2px rgba(60, 64, 67, 0.3), 0px 1px 3px 1px rgba(60, 64, 67, 0.15);\n",
              "      fill: #174EA6;\n",
              "    }\n",
              "\n",
              "    [theme=dark] .colab-df-convert {\n",
              "      background-color: #3B4455;\n",
              "      fill: #D2E3FC;\n",
              "    }\n",
              "\n",
              "    [theme=dark] .colab-df-convert:hover {\n",
              "      background-color: #434B5C;\n",
              "      box-shadow: 0px 1px 3px 1px rgba(0, 0, 0, 0.15);\n",
              "      filter: drop-shadow(0px 1px 2px rgba(0, 0, 0, 0.3));\n",
              "      fill: #FFFFFF;\n",
              "    }\n",
              "  </style>\n",
              "\n",
              "      <script>\n",
              "        const buttonEl =\n",
              "          document.querySelector('#df-9994d454-c8d2-4613-9fbb-890eea57c70d button.colab-df-convert');\n",
              "        buttonEl.style.display =\n",
              "          google.colab.kernel.accessAllowed ? 'block' : 'none';\n",
              "\n",
              "        async function convertToInteractive(key) {\n",
              "          const element = document.querySelector('#df-9994d454-c8d2-4613-9fbb-890eea57c70d');\n",
              "          const dataTable =\n",
              "            await google.colab.kernel.invokeFunction('convertToInteractive',\n",
              "                                                     [key], {});\n",
              "          if (!dataTable) return;\n",
              "\n",
              "          const docLinkHtml = 'Like what you see? Visit the ' +\n",
              "            '<a target=\"_blank\" href=https://colab.research.google.com/notebooks/data_table.ipynb>data table notebook</a>'\n",
              "            + ' to learn more about interactive tables.';\n",
              "          element.innerHTML = '';\n",
              "          dataTable['output_type'] = 'display_data';\n",
              "          await google.colab.output.renderOutput(dataTable, element);\n",
              "          const docLink = document.createElement('div');\n",
              "          docLink.innerHTML = docLinkHtml;\n",
              "          element.appendChild(docLink);\n",
              "        }\n",
              "      </script>\n",
              "    </div>\n",
              "  </div>\n",
              "  "
            ],
            "text/plain": [
              "          state abbreviation  ...  number_starbucks  people_per_starbucks\n",
              "0    California           CA  ...              2821          14042.358384\n",
              "1         Texas           TX  ...              1042          28531.968330\n",
              "2       Florida           FL  ...               694          31620.427954\n",
              "3      New York           NY  ...               645          29922.451163\n",
              "4  Pennsylvania           PA  ...               357          35865.890756\n",
              "5      Illinois           IL  ...               575          21859.688696\n",
              "6          Ohio           OH  ...               378          30991.052910\n",
              "7       Georgia           GA  ...               326          33220.880368\n",
              "\n",
              "[8 rows x 5 columns]"
            ]
          },
          "metadata": {},
          "execution_count": 98
        }
      ],
      "source": [
        "# We can also create new columns\n",
        "\n",
        "df['people_per_starbucks'] = df['population'] / df['number_starbucks']\n",
        "\n",
        "df"
      ]
    },
    {
      "cell_type": "code",
      "execution_count": 99,
      "metadata": {
        "id": "B1hjgCoDSgpd",
        "outputId": "9833313d-eb0a-4f6c-9442-aa97b4c78361",
        "colab": {
          "base_uri": "https://localhost:8080/"
        }
      },
      "outputs": [
        {
          "output_type": "stream",
          "name": "stderr",
          "text": [
            "/usr/local/lib/python3.7/dist-packages/ipykernel_launcher.py:6: SettingWithCopyWarning: \n",
            "A value is trying to be set on a copy of a slice from a DataFrame.\n",
            "Try using .loc[row_indexer,col_indexer] = value instead\n",
            "\n",
            "See the caveats in the documentation: https://pandas.pydata.org/pandas-docs/stable/user_guide/indexing.html#returning-a-view-versus-a-copy\n",
            "  \n"
          ]
        }
      ],
      "source": [
        "# What if we want to analyze just states that have a starbucks for every 30,000 people or fewer?\n",
        "\n",
        "# This will cause issues!   this is just a reference you cannot assign to it use.copy\n",
        "states_with_a_lot_of_starbucks = df[df['people_per_starbucks'] <= 30000]\n",
        "\n",
        "states_with_a_lot_of_starbucks['caffeinated'] = 'highly'"
      ]
    },
    {
      "cell_type": "code",
      "execution_count": 100,
      "metadata": {
        "id": "BhMkuMQ9Sgpd",
        "outputId": "eda40883-4870-4d4e-c548-85cde447f431",
        "colab": {
          "base_uri": "https://localhost:8080/",
          "height": 175
        }
      },
      "outputs": [
        {
          "output_type": "execute_result",
          "data": {
            "text/html": [
              "\n",
              "  <div id=\"df-1bb4f84f-dd3c-48c6-aba2-432f1f44ef13\">\n",
              "    <div class=\"colab-df-container\">\n",
              "      <div>\n",
              "<style scoped>\n",
              "    .dataframe tbody tr th:only-of-type {\n",
              "        vertical-align: middle;\n",
              "    }\n",
              "\n",
              "    .dataframe tbody tr th {\n",
              "        vertical-align: top;\n",
              "    }\n",
              "\n",
              "    .dataframe thead th {\n",
              "        text-align: right;\n",
              "    }\n",
              "</style>\n",
              "<table border=\"1\" class=\"dataframe\">\n",
              "  <thead>\n",
              "    <tr style=\"text-align: right;\">\n",
              "      <th></th>\n",
              "      <th>state</th>\n",
              "      <th>abbreviation</th>\n",
              "      <th>population</th>\n",
              "      <th>number_starbucks</th>\n",
              "      <th>people_per_starbucks</th>\n",
              "      <th>caffeinated</th>\n",
              "    </tr>\n",
              "  </thead>\n",
              "  <tbody>\n",
              "    <tr>\n",
              "      <th>0</th>\n",
              "      <td>California</td>\n",
              "      <td>CA</td>\n",
              "      <td>39613493</td>\n",
              "      <td>2821</td>\n",
              "      <td>14042.358384</td>\n",
              "      <td>highly</td>\n",
              "    </tr>\n",
              "    <tr>\n",
              "      <th>1</th>\n",
              "      <td>Texas</td>\n",
              "      <td>TX</td>\n",
              "      <td>29730311</td>\n",
              "      <td>1042</td>\n",
              "      <td>28531.968330</td>\n",
              "      <td>highly</td>\n",
              "    </tr>\n",
              "    <tr>\n",
              "      <th>3</th>\n",
              "      <td>New York</td>\n",
              "      <td>NY</td>\n",
              "      <td>19299981</td>\n",
              "      <td>645</td>\n",
              "      <td>29922.451163</td>\n",
              "      <td>highly</td>\n",
              "    </tr>\n",
              "    <tr>\n",
              "      <th>5</th>\n",
              "      <td>Illinois</td>\n",
              "      <td>IL</td>\n",
              "      <td>12569321</td>\n",
              "      <td>575</td>\n",
              "      <td>21859.688696</td>\n",
              "      <td>highly</td>\n",
              "    </tr>\n",
              "  </tbody>\n",
              "</table>\n",
              "</div>\n",
              "      <button class=\"colab-df-convert\" onclick=\"convertToInteractive('df-1bb4f84f-dd3c-48c6-aba2-432f1f44ef13')\"\n",
              "              title=\"Convert this dataframe to an interactive table.\"\n",
              "              style=\"display:none;\">\n",
              "        \n",
              "  <svg xmlns=\"http://www.w3.org/2000/svg\" height=\"24px\"viewBox=\"0 0 24 24\"\n",
              "       width=\"24px\">\n",
              "    <path d=\"M0 0h24v24H0V0z\" fill=\"none\"/>\n",
              "    <path d=\"M18.56 5.44l.94 2.06.94-2.06 2.06-.94-2.06-.94-.94-2.06-.94 2.06-2.06.94zm-11 1L8.5 8.5l.94-2.06 2.06-.94-2.06-.94L8.5 2.5l-.94 2.06-2.06.94zm10 10l.94 2.06.94-2.06 2.06-.94-2.06-.94-.94-2.06-.94 2.06-2.06.94z\"/><path d=\"M17.41 7.96l-1.37-1.37c-.4-.4-.92-.59-1.43-.59-.52 0-1.04.2-1.43.59L10.3 9.45l-7.72 7.72c-.78.78-.78 2.05 0 2.83L4 21.41c.39.39.9.59 1.41.59.51 0 1.02-.2 1.41-.59l7.78-7.78 2.81-2.81c.8-.78.8-2.07 0-2.86zM5.41 20L4 18.59l7.72-7.72 1.47 1.35L5.41 20z\"/>\n",
              "  </svg>\n",
              "      </button>\n",
              "      \n",
              "  <style>\n",
              "    .colab-df-container {\n",
              "      display:flex;\n",
              "      flex-wrap:wrap;\n",
              "      gap: 12px;\n",
              "    }\n",
              "\n",
              "    .colab-df-convert {\n",
              "      background-color: #E8F0FE;\n",
              "      border: none;\n",
              "      border-radius: 50%;\n",
              "      cursor: pointer;\n",
              "      display: none;\n",
              "      fill: #1967D2;\n",
              "      height: 32px;\n",
              "      padding: 0 0 0 0;\n",
              "      width: 32px;\n",
              "    }\n",
              "\n",
              "    .colab-df-convert:hover {\n",
              "      background-color: #E2EBFA;\n",
              "      box-shadow: 0px 1px 2px rgba(60, 64, 67, 0.3), 0px 1px 3px 1px rgba(60, 64, 67, 0.15);\n",
              "      fill: #174EA6;\n",
              "    }\n",
              "\n",
              "    [theme=dark] .colab-df-convert {\n",
              "      background-color: #3B4455;\n",
              "      fill: #D2E3FC;\n",
              "    }\n",
              "\n",
              "    [theme=dark] .colab-df-convert:hover {\n",
              "      background-color: #434B5C;\n",
              "      box-shadow: 0px 1px 3px 1px rgba(0, 0, 0, 0.15);\n",
              "      filter: drop-shadow(0px 1px 2px rgba(0, 0, 0, 0.3));\n",
              "      fill: #FFFFFF;\n",
              "    }\n",
              "  </style>\n",
              "\n",
              "      <script>\n",
              "        const buttonEl =\n",
              "          document.querySelector('#df-1bb4f84f-dd3c-48c6-aba2-432f1f44ef13 button.colab-df-convert');\n",
              "        buttonEl.style.display =\n",
              "          google.colab.kernel.accessAllowed ? 'block' : 'none';\n",
              "\n",
              "        async function convertToInteractive(key) {\n",
              "          const element = document.querySelector('#df-1bb4f84f-dd3c-48c6-aba2-432f1f44ef13');\n",
              "          const dataTable =\n",
              "            await google.colab.kernel.invokeFunction('convertToInteractive',\n",
              "                                                     [key], {});\n",
              "          if (!dataTable) return;\n",
              "\n",
              "          const docLinkHtml = 'Like what you see? Visit the ' +\n",
              "            '<a target=\"_blank\" href=https://colab.research.google.com/notebooks/data_table.ipynb>data table notebook</a>'\n",
              "            + ' to learn more about interactive tables.';\n",
              "          element.innerHTML = '';\n",
              "          dataTable['output_type'] = 'display_data';\n",
              "          await google.colab.output.renderOutput(dataTable, element);\n",
              "          const docLink = document.createElement('div');\n",
              "          docLink.innerHTML = docLinkHtml;\n",
              "          element.appendChild(docLink);\n",
              "        }\n",
              "      </script>\n",
              "    </div>\n",
              "  </div>\n",
              "  "
            ],
            "text/plain": [
              "        state abbreviation  ...  people_per_starbucks  caffeinated\n",
              "0  California           CA  ...          14042.358384       highly\n",
              "1       Texas           TX  ...          28531.968330       highly\n",
              "3    New York           NY  ...          29922.451163       highly\n",
              "5    Illinois           IL  ...          21859.688696       highly\n",
              "\n",
              "[4 rows x 6 columns]"
            ]
          },
          "metadata": {},
          "execution_count": 100
        }
      ],
      "source": [
        "# In order to be efficient, pandas doens't copy all the data over when you filter it--it just gives you a \"view\" into the original data\n",
        "# Normally this is great, but if we want to start messing around with our new data frame, we want a fresh copy of the data\n",
        "states_with_a_lot_of_starbucks = df[df['people_per_starbucks'] <= 30000].copy()\n",
        "\n",
        "states_with_a_lot_of_starbucks['caffeinated'] = 'highly'\n",
        "\n",
        "states_with_a_lot_of_starbucks.head()"
      ]
    },
    {
      "cell_type": "code",
      "execution_count": null,
      "metadata": {
        "id": "50BwZDECSgpe"
      },
      "outputs": [],
      "source": [
        ""
      ]
    },
    {
      "cell_type": "markdown",
      "metadata": {
        "id": "U3QQoypUSgpe"
      },
      "source": [
        "## Bonus Round: My Favorite Things!"
      ]
    },
    {
      "cell_type": "code",
      "execution_count": 101,
      "metadata": {
        "id": "I-G3xDhfSgpe",
        "outputId": "759ac580-2a90-48ce-fb77-74ed7362d7a9",
        "colab": {
          "base_uri": "https://localhost:8080/"
        }
      },
      "outputs": [
        {
          "output_type": "execute_result",
          "data": {
            "text/plain": [
              "(81, 3.0)"
            ]
          },
          "metadata": {},
          "execution_count": 101
        }
      ],
      "source": [
        "# Exponents\n",
        "\n",
        "x = 9\n",
        "x_squared = x ** 2\n",
        "x_square_root = x ** .5\n",
        "\n",
        "x_squared, x_square_root"
      ]
    },
    {
      "cell_type": "code",
      "execution_count": 105,
      "metadata": {
        "id": "v6Wch5ZlSgpe",
        "outputId": "fdbbc590-89c5-43c5-94e6-f86a4c926098",
        "colab": {
          "base_uri": "https://localhost:8080/"
        }
      },
      "outputs": [
        {
          "output_type": "execute_result",
          "data": {
            "text/plain": [
              "[1, 4, 9, 16, 25]"
            ]
          },
          "metadata": {},
          "execution_count": 105
        }
      ],
      "source": [
        "# List comprehensions\n",
        "\n",
        "numbers = [1, 2, 3, 4, 5]\n",
        "\n",
        "# The old dumb way\n",
        "\n",
        "numbers_squared = []\n",
        "for number in numbers:\n",
        "    numbers_squared.append(number ** 2)\n",
        "\n",
        "# The cool way\n",
        "numbers_squared_but_cooler = [number ** 2 for number in numbers]\n",
        "\n",
        "numbers_squared_but_cooler"
      ]
    },
    {
      "cell_type": "code",
      "execution_count": 106,
      "metadata": {
        "id": "KqYYv1P6Sgpe",
        "outputId": "0a3ab13e-5871-47b9-c752-999a91c30690",
        "colab": {
          "base_uri": "https://localhost:8080/"
        }
      },
      "outputs": [
        {
          "output_type": "stream",
          "name": "stdout",
          "text": [
            "You can drive, but you can't drink\n",
            "You can drive, but you can't drink\n"
          ]
        }
      ],
      "source": [
        "# Chaining comparisons\n",
        "\n",
        "my_age = 17\n",
        "\n",
        "# In most languages we have to do this:\n",
        "\n",
        "if 16 < my_age and my_age < 21:\n",
        "    print('You can drive, but you can\\'t drink')\n",
        "    \n",
        "# But in python we can do THIS\n",
        "\n",
        "if 16 < my_age < 21:\n",
        "    print('You can drive, but you can\\'t drink')"
      ]
    },
    {
      "cell_type": "code",
      "execution_count": 107,
      "metadata": {
        "id": "AyqomWI8Sgpe",
        "outputId": "3bee8c05-bc84-4f99-e53a-69f429204c97",
        "colab": {
          "base_uri": "https://localhost:8080/"
        }
      },
      "outputs": [
        {
          "output_type": "execute_result",
          "data": {
            "text/plain": [
              "('fifth', 'fourth')"
            ]
          },
          "metadata": {},
          "execution_count": 107
        }
      ],
      "source": [
        "# Negative indexing\n",
        "\n",
        "ordinals = ['first', 'second', 'third', 'fourth', 'fifth']\n",
        "\n",
        "ordinals[-1], ordinals[-2]"
      ]
    },
    {
      "cell_type": "code",
      "execution_count": 108,
      "metadata": {
        "id": "VvV_r_9CSgpf"
      },
      "outputs": [],
      "source": [
        ""
      ]
    }
  ],
  "metadata": {
    "kernelspec": {
      "display_name": "Python 3",
      "language": "python",
      "name": "python3"
    },
    "language_info": {
      "codemirror_mode": {
        "name": "ipython",
        "version": 3
      },
      "file_extension": ".py",
      "mimetype": "text/x-python",
      "name": "python",
      "nbconvert_exporter": "python",
      "pygments_lexer": "ipython3",
      "version": "3.9.0"
    },
    "colab": {
      "name": "Part 1 - Intro to Python.ipynb",
      "provenance": []
    }
  },
  "nbformat": 4,
  "nbformat_minor": 0
}